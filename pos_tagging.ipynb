{
 "cells": [
  {
   "cell_type": "code",
   "execution_count": 18,
   "id": "initial_id",
   "metadata": {
    "collapsed": true,
    "jupyter": {
     "is_executing": true
    }
   },
   "outputs": [],
   "source": [
    "import pandas as pd\n",
    "import nltk\n",
    "from nltk.tag import pos_tag\n",
    "import json"
   ]
  },
  {
   "cell_type": "code",
   "execution_count": 19,
   "id": "3093c645",
   "metadata": {},
   "outputs": [
    {
     "name": "stderr",
     "output_type": "stream",
     "text": [
      "[nltk_data] Downloading package stopwords to\n",
      "[nltk_data]     C:\\Users\\uma_i\\AppData\\Roaming\\nltk_data...\n",
      "[nltk_data]   Package stopwords is already up-to-date!\n",
      "[nltk_data] Downloading package averaged_perceptron_tagger to\n",
      "[nltk_data]     C:\\Users\\uma_i\\AppData\\Roaming\\nltk_data...\n",
      "[nltk_data]   Package averaged_perceptron_tagger is already up-to-\n",
      "[nltk_data]       date!\n"
     ]
    },
    {
     "data": {
      "text/plain": [
       "True"
      ]
     },
     "execution_count": 19,
     "metadata": {},
     "output_type": "execute_result"
    }
   ],
   "source": [
    "nltk.download(\"stopwords\")\n",
    "nltk.download('averaged_perceptron_tagger')"
   ]
  },
  {
   "cell_type": "code",
   "execution_count": 23,
   "id": "5e9614fe9775d468",
   "metadata": {},
   "outputs": [
    {
     "data": {
      "text/html": [
       "<div>\n",
       "<style scoped>\n",
       "    .dataframe tbody tr th:only-of-type {\n",
       "        vertical-align: middle;\n",
       "    }\n",
       "\n",
       "    .dataframe tbody tr th {\n",
       "        vertical-align: top;\n",
       "    }\n",
       "\n",
       "    .dataframe thead th {\n",
       "        text-align: right;\n",
       "    }\n",
       "</style>\n",
       "<table border=\"1\" class=\"dataframe\">\n",
       "  <thead>\n",
       "    <tr style=\"text-align: right;\">\n",
       "      <th></th>\n",
       "      <th>Diet_type</th>\n",
       "      <th>Recipe_name</th>\n",
       "      <th>Cuisine_type</th>\n",
       "      <th>Protein(g)</th>\n",
       "      <th>Carbs(g)</th>\n",
       "      <th>Fat(g)</th>\n",
       "      <th>Extraction_day</th>\n",
       "      <th>Extraction_time</th>\n",
       "    </tr>\n",
       "  </thead>\n",
       "  <tbody>\n",
       "    <tr>\n",
       "      <th>0</th>\n",
       "      <td>paleo</td>\n",
       "      <td>bone broth from nom nom</td>\n",
       "      <td>american</td>\n",
       "      <td>5.22</td>\n",
       "      <td>1.29</td>\n",
       "      <td>3.20</td>\n",
       "      <td>2022-10-16</td>\n",
       "      <td>17:20:09</td>\n",
       "    </tr>\n",
       "    <tr>\n",
       "      <th>1</th>\n",
       "      <td>paleo</td>\n",
       "      <td>effect asian glazed pork sides sweet crispy ap...</td>\n",
       "      <td>south east asian</td>\n",
       "      <td>181.55</td>\n",
       "      <td>28.62</td>\n",
       "      <td>146.14</td>\n",
       "      <td>2022-10-16</td>\n",
       "      <td>17:20:09</td>\n",
       "    </tr>\n",
       "    <tr>\n",
       "      <th>2</th>\n",
       "      <td>paleo</td>\n",
       "      <td>pumpkin pie</td>\n",
       "      <td>american</td>\n",
       "      <td>30.91</td>\n",
       "      <td>302.59</td>\n",
       "      <td>96.76</td>\n",
       "      <td>2022-10-16</td>\n",
       "      <td>17:20:09</td>\n",
       "    </tr>\n",
       "    <tr>\n",
       "      <th>3</th>\n",
       "      <td>paleo</td>\n",
       "      <td>strawberry guacamole</td>\n",
       "      <td>mexican</td>\n",
       "      <td>9.62</td>\n",
       "      <td>75.78</td>\n",
       "      <td>59.89</td>\n",
       "      <td>2022-10-16</td>\n",
       "      <td>17:20:09</td>\n",
       "    </tr>\n",
       "    <tr>\n",
       "      <th>4</th>\n",
       "      <td>paleo</td>\n",
       "      <td>asian cauliflower fried rice from nom nom</td>\n",
       "      <td>chinese</td>\n",
       "      <td>39.84</td>\n",
       "      <td>54.08</td>\n",
       "      <td>71.55</td>\n",
       "      <td>2022-10-16</td>\n",
       "      <td>17:20:09</td>\n",
       "    </tr>\n",
       "    <tr>\n",
       "      <th>5</th>\n",
       "      <td>paleo</td>\n",
       "      <td>shrimp stuffed mushrooms</td>\n",
       "      <td>mediterranean</td>\n",
       "      <td>68.62</td>\n",
       "      <td>34.15</td>\n",
       "      <td>42.44</td>\n",
       "      <td>2022-10-16</td>\n",
       "      <td>17:20:09</td>\n",
       "    </tr>\n",
       "    <tr>\n",
       "      <th>6</th>\n",
       "      <td>paleo</td>\n",
       "      <td>pumpkin pie</td>\n",
       "      <td>american</td>\n",
       "      <td>30.03</td>\n",
       "      <td>275.88</td>\n",
       "      <td>97.68</td>\n",
       "      <td>2022-10-16</td>\n",
       "      <td>17:20:09</td>\n",
       "    </tr>\n",
       "    <tr>\n",
       "      <th>7</th>\n",
       "      <td>paleo</td>\n",
       "      <td>autoimmune pesto</td>\n",
       "      <td>italian</td>\n",
       "      <td>4.25</td>\n",
       "      <td>14.15</td>\n",
       "      <td>72.90</td>\n",
       "      <td>2022-10-16</td>\n",
       "      <td>17:20:09</td>\n",
       "    </tr>\n",
       "    <tr>\n",
       "      <th>8</th>\n",
       "      <td>paleo</td>\n",
       "      <td>baked banana chip encrusted french toast</td>\n",
       "      <td>french</td>\n",
       "      <td>152.88</td>\n",
       "      <td>1874.52</td>\n",
       "      <td>385.80</td>\n",
       "      <td>2022-10-16</td>\n",
       "      <td>17:20:09</td>\n",
       "    </tr>\n",
       "    <tr>\n",
       "      <th>9</th>\n",
       "      <td>paleo</td>\n",
       "      <td>vietnamese pho pressure cooker noodle soup</td>\n",
       "      <td>south east asian</td>\n",
       "      <td>602.91</td>\n",
       "      <td>274.87</td>\n",
       "      <td>400.01</td>\n",
       "      <td>2022-10-16</td>\n",
       "      <td>17:20:09</td>\n",
       "    </tr>\n",
       "  </tbody>\n",
       "</table>\n",
       "</div>"
      ],
      "text/plain": [
       "  Diet_type                                        Recipe_name   \n",
       "0     paleo                            bone broth from nom nom  \\\n",
       "1     paleo  effect asian glazed pork sides sweet crispy ap...   \n",
       "2     paleo                                        pumpkin pie   \n",
       "3     paleo                               strawberry guacamole   \n",
       "4     paleo          asian cauliflower fried rice from nom nom   \n",
       "5     paleo                           shrimp stuffed mushrooms   \n",
       "6     paleo                                        pumpkin pie   \n",
       "7     paleo                                   autoimmune pesto   \n",
       "8     paleo           baked banana chip encrusted french toast   \n",
       "9     paleo         vietnamese pho pressure cooker noodle soup   \n",
       "\n",
       "       Cuisine_type  Protein(g)  Carbs(g)  Fat(g) Extraction_day   \n",
       "0          american        5.22      1.29    3.20     2022-10-16  \\\n",
       "1  south east asian      181.55     28.62  146.14     2022-10-16   \n",
       "2          american       30.91    302.59   96.76     2022-10-16   \n",
       "3           mexican        9.62     75.78   59.89     2022-10-16   \n",
       "4           chinese       39.84     54.08   71.55     2022-10-16   \n",
       "5     mediterranean       68.62     34.15   42.44     2022-10-16   \n",
       "6          american       30.03    275.88   97.68     2022-10-16   \n",
       "7           italian        4.25     14.15   72.90     2022-10-16   \n",
       "8            french      152.88   1874.52  385.80     2022-10-16   \n",
       "9  south east asian      602.91    274.87  400.01     2022-10-16   \n",
       "\n",
       "  Extraction_time  \n",
       "0        17:20:09  \n",
       "1        17:20:09  \n",
       "2        17:20:09  \n",
       "3        17:20:09  \n",
       "4        17:20:09  \n",
       "5        17:20:09  \n",
       "6        17:20:09  \n",
       "7        17:20:09  \n",
       "8        17:20:09  \n",
       "9        17:20:09  "
      ]
     },
     "execution_count": 23,
     "metadata": {},
     "output_type": "execute_result"
    }
   ],
   "source": [
    "df = pd.read_csv(\"All_Diets_cleaned.csv\")\n",
    "df.head(10)"
   ]
  },
  {
   "cell_type": "code",
   "execution_count": 24,
   "id": "b8ef914c",
   "metadata": {},
   "outputs": [
    {
     "data": {
      "text/plain": [
       "[{'nouns': ['bone', 'broth', 'nom'], 'adjectives': ['nom']},\n",
       " {'nouns': ['effect', 'pork', 'sides', 'appetizer'],\n",
       "  'adjectives': ['asian', 'crispy']},\n",
       " {'nouns': ['pumpkin', 'pie'], 'adjectives': []},\n",
       " {'nouns': ['strawberry', 'guacamole'], 'adjectives': []},\n",
       " {'nouns': ['cauliflower', 'rice', 'nom'], 'adjectives': ['asian', 'nom']},\n",
       " {'nouns': ['shrimp', 'mushrooms'], 'adjectives': []},\n",
       " {'nouns': ['pumpkin', 'pie'], 'adjectives': []},\n",
       " {'nouns': ['autoimmune', 'pesto'], 'adjectives': []},\n",
       " {'nouns': ['banana', 'chip', 'toast'], 'adjectives': ['french']},\n",
       " {'nouns': ['pho', 'pressure', 'cooker', 'soup'],\n",
       "  'adjectives': ['vietnamese', 'noodle']}]"
      ]
     },
     "execution_count": 24,
     "metadata": {},
     "output_type": "execute_result"
    }
   ],
   "source": [
    "def pos_tagging_nltk(sentence):\n",
    "    words = [word for word in sentence.split()]\n",
    "    pos_tags = pos_tag(words)\n",
    "    return pos_tags\n",
    "\n",
    "\n",
    "tags_dictionary = []\n",
    "recipes = df[\"Recipe_name\"].to_numpy()\n",
    "for index,recipe in enumerate(recipes):\n",
    "    tags = pos_tagging_nltk(recipe)\n",
    "    nouns = [tag[0] for tag in tags if tag[1][:2] == \"NN\" ]\n",
    "    adjectives = [tag[0] for tag in tags if tag[1] == \"JJ\"]\n",
    "    tags_dictionary.append({\"nouns\":nouns,\"adjectives\":adjectives})\n",
    "\n",
    "tags_dictionary[:10]"
   ]
  },
  {
   "cell_type": "code",
   "execution_count": 25,
   "id": "0b2f2b4f",
   "metadata": {},
   "outputs": [],
   "source": [
    "with open(\"tagged_diets.json\",\"w\") as file:\n",
    "    file.write(json.dumps(tags_dictionary,indent=1))"
   ]
  }
 ],
 "metadata": {
  "kernelspec": {
   "display_name": "Python 3",
   "language": "python",
   "name": "python3"
  },
  "language_info": {
   "codemirror_mode": {
    "name": "ipython",
    "version": 3
   },
   "file_extension": ".py",
   "mimetype": "text/x-python",
   "name": "python",
   "nbconvert_exporter": "python",
   "pygments_lexer": "ipython3",
   "version": "3.10.11"
  }
 },
 "nbformat": 4,
 "nbformat_minor": 5
}
